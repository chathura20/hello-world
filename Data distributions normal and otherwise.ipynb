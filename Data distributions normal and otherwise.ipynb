{
 "cells": [
  {
   "cell_type": "code",
   "execution_count": 1,
   "metadata": {},
   "outputs": [],
   "source": [
    "import numpy as np\n",
    "import pandas as pd\n",
    "import matplotlib.pyplot as plt\n",
    "%matplotlib inline"
   ]
  },
  {
   "cell_type": "code",
   "execution_count": 9,
   "metadata": {},
   "outputs": [
    {
     "data": {
      "image/png": "[encoded data removed]",
      "text/plain": [
       "<Figure size 432x288 with 1 Axes>"
      ]
     },
     "metadata": {
      "needs_background": "light"
     },
     "output_type": "display_data"
    }
   ],
   "source": [
    "# Question1\n",
    "\n",
    "rand1 = np.random.normal(50, 300, 100)\n",
    "\n",
    "#Plot a histogram for rand1.\n",
    "plt.hist(rand1)\n",
    "\n",
    "\n",
    "# Add a vertical line at the mean.\n",
    "plt.axvline(rand1.mean(), color='b', linestyle='solid', linewidth=2)\n",
    "\n",
    "# Add a vertical line at one standard deviation above the mean.\n",
    "plt.axvline(rand1.mean() + rand1.std(), color='b', linestyle='dashed', linewidth=2)\n",
    "\n",
    "# Add a vertical line at one standard deviation below the mean.\n",
    "plt.axvline(rand1.mean()-rand1.std(), color='b', linestyle='dashed', linewidth=2) \n",
    "\n",
    "\n",
    "# Print the histogram.\n",
    "plt.show()\n",
    "\n",
    "\n"
   ]
  },
  {
   "cell_type": "code",
   "execution_count": 10,
   "metadata": {},
   "outputs": [],
   "source": [
    "# Because rand1 is normal, the mean is placed where the data clusters, with approximately 50% of the data falling \n",
    "#on either side, and approximately 67% of the data falling within one standard deviation of the mean.\n",
    "# The other non-normal distribution  mean is no longer a measure of \"central\" tendency, as it does not fall in the center,\n",
    "# and the standard deviation no longer describes how much variance there is.\n",
    "#Asymmetric probability distributions are described as \"skewed.\""
   ]
  },
  {
   "cell_type": "code",
   "execution_count": 17,
   "metadata": {},
   "outputs": [
    {
     "data": {
      "image/png": "[encoded data removed]",
      "text/plain": [
       "<Figure size 432x288 with 1 Axes>"
      ]
     },
     "metadata": {
      "needs_background": "light"
     },
     "output_type": "display_data"
    },
    {
     "name": "stdout",
     "output_type": "stream",
     "text": [
      "mean of the third variable :  14.95104253997812\n",
      "standard deviation of the third variable :  1.1001621319068644\n"
     ]
    }
   ],
   "source": [
    "# Additional Drill\n",
    "\n",
    "#1\n",
    "rand1 = np.random.normal(5, 0.5, 1000)\n",
    "rand2 = np.random.normal(10, 1, 1000)\n",
    "\n",
    "#2\n",
    "rand3 = rand1 + rand2\n",
    "\n",
    "#3\n",
    "#Plot a histogram for rand1.\n",
    "plt.hist(rand3)\n",
    "\n",
    "#4\n",
    "# Add a vertical line at the mean.\n",
    "plt.axvline(rand3.mean(), color='b', linestyle='solid', linewidth=2)\n",
    "\n",
    "# Add a vertical line at one standard deviation above the mean.\n",
    "plt.axvline(rand3.mean() + rand1.std(), color='b', linestyle='dashed', linewidth=2)\n",
    "\n",
    "# Add a vertical line at one standard deviation below the mean.\n",
    "plt.axvline(rand3.mean()-rand1.std(), color='b', linestyle='dashed', linewidth=2) \n",
    "\n",
    "\n",
    "# Print the histogram.\n",
    "plt.show()\n",
    "\n",
    "mean = np.mean(rand3)\n",
    "sd = np.std(rand3)\n",
    "\n",
    "print('mean of the third variable : ' , mean)\n",
    "print('standard deviation of the third variable : ' , sd)\n",
    "\n"
   ]
  },
  {
   "cell_type": "code",
   "execution_count": null,
   "metadata": {},
   "outputs": [],
   "source": [
    "#5\n",
    "# Variable 3 is also following the normal distribution. This shows very good cental tendancy.\n",
    "#Since sd approximately equals to the 1, this variable dosen't have much variance."
   ]
  }
 ],
 "metadata": {
  "kernelspec": {
   "display_name": "Python 3",
   "language": "python",
   "name": "python3"
  },
  "language_info": {
   "codemirror_mode": {
    "name": "ipython",
    "version": 3
   },
   "file_extension": ".py",
   "mimetype": "text/x-python",
   "name": "python",
   "nbconvert_exporter": "python",
   "pygments_lexer": "ipython3",
   "version": "3.7.3"
  }
 },
 "nbformat": 4,
 "nbformat_minor": 2
}
