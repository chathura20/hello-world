{
 "cells": [
  {
   "cell_type": "code",
   "execution_count": 18,
   "metadata": {},
   "outputs": [
    {
     "name": "stdout",
     "output_type": "stream",
     "text": [
      "     Trade Date       Futures   Open   High    Low  Close  Settle  Change  \\\n",
      "0    2018-04-23  F (Jan 2019)   0.00  18.50  18.85   0.00  18.450   0.000   \n",
      "1    2018-04-24  F (Jan 2019)  18.55  18.95  18.50  18.95  18.725   0.275   \n",
      "2    2018-04-25  F (Jan 2019)   0.00  18.70  18.70   0.00  18.700  -0.025   \n",
      "3    2018-04-26  F (Jan 2019)  18.50  18.80  18.50  18.50  18.575  -0.125   \n",
      "4    2018-04-27  F (Jan 2019)  18.65  18.65  18.50  18.65  18.275  -0.300   \n",
      "5    2018-04-30  F (Jan 2019)  18.32  18.40  18.32  18.38  18.250  -0.025   \n",
      "6    2018-05-01  F (Jan 2019)   0.00  18.30  18.35   0.00  17.975  -0.275   \n",
      "7    2018-05-02  F (Jan 2019)  18.25  18.25  18.24  18.24  18.150   0.175   \n",
      "8    2018-05-03  F (Jan 2019)  18.07  18.35  18.07  18.09  18.075  -0.075   \n",
      "9    2018-05-04  F (Jan 2019)  18.05  18.05  18.00  18.00  17.900  -0.175   \n",
      "10   2018-05-07  F (Jan 2019)  18.04  18.10  18.04  18.07  17.925   0.025   \n",
      "11   2018-05-08  F (Jan 2019)  18.09  18.20  18.00  18.07  18.050   0.125   \n",
      "12   2018-05-09  F (Jan 2019)  18.00  18.00  17.81  17.82  17.875  -0.175   \n",
      "13   2018-05-10  F (Jan 2019)  17.85  17.85  17.43  17.51  17.500  -0.375   \n",
      "14   2018-05-11  F (Jan 2019)  17.48  17.52  17.31  17.39  17.325  -0.175   \n",
      "15   2018-05-14  F (Jan 2019)  17.30  17.30  17.10  17.15  17.150  -0.175   \n",
      "16   2018-05-15  F (Jan 2019)  17.12  17.62  17.12  17.62  17.600   0.450   \n",
      "17   2018-05-16  F (Jan 2019)  17.55  17.65  17.11  17.28  17.350  -0.250   \n",
      "18   2018-05-17  F (Jan 2019)  17.30  17.37  17.11  17.27  17.300  -0.050   \n",
      "19   2018-05-18  F (Jan 2019)  17.17  17.46  17.17  17.40  17.400   0.100   \n",
      "20   2018-05-21  F (Jan 2019)  17.35  17.35  16.98  17.11  17.075  -0.325   \n",
      "21   2018-05-22  F (Jan 2019)  17.00  17.28  16.95  17.24  17.250   0.175   \n",
      "22   2018-05-23  F (Jan 2019)  17.42  17.55  16.97  16.99  17.050  -0.200   \n",
      "23   2018-05-24  F (Jan 2019)  17.15  17.40  17.00  17.05  17.050   0.000   \n",
      "24   2018-05-25  F (Jan 2019)  17.00  17.25  16.90  17.16  17.150   0.100   \n",
      "25   2018-05-29  F (Jan 2019)  17.04  17.57  17.04  17.40  17.350   0.200   \n",
      "26   2018-05-30  F (Jan 2019)  17.40  17.47  17.15  17.43  17.450   0.100   \n",
      "27   2018-05-31  F (Jan 2019)  17.40  17.60  17.35  17.55  17.550   0.100   \n",
      "28   2018-06-01  F (Jan 2019)  17.44  17.50  17.12  17.20  17.200  -0.350   \n",
      "29   2018-06-04  F (Jan 2019)  17.05  17.15  16.91  16.93  16.925  -0.275   \n",
      "..          ...           ...    ...    ...    ...    ...     ...     ...   \n",
      "157  2018-12-04  F (Jan 2019)  17.40  19.42  17.34  19.25  19.275   1.900   \n",
      "158  2018-12-05  F (Jan 2019)  19.25  19.30  18.77  19.05  19.050  -0.225   \n",
      "159  2018-12-06  F (Jan 2019)  19.20  21.35  19.16  19.45  19.475   0.425   \n",
      "160  2018-12-07  F (Jan 2019)  19.48  21.17  19.25  20.62  20.675   1.200   \n",
      "161  2018-12-10  F (Jan 2019)  20.80  21.80  20.40  20.56  20.525  -0.150   \n",
      "162  2018-12-11  F (Jan 2019)  20.50  21.30  20.00  20.84  20.475  -0.050   \n",
      "163  2018-12-12  F (Jan 2019)  20.70  20.80  19.88  20.55  20.425  -0.050   \n",
      "164  2018-12-13  F (Jan 2019)  20.50  20.68  20.00  20.25  20.225  -0.200   \n",
      "165  2018-12-14  F (Jan 2019)  20.15  21.15  20.11  20.91  20.875   0.650   \n",
      "166  2018-12-17  F (Jan 2019)  20.90  22.35  20.58  21.62  21.675   0.800   \n",
      "167  2018-12-18  F (Jan 2019)  21.70  22.60  21.27  22.15  21.975   0.300   \n",
      "168  2018-12-19  F (Jan 2019)  22.05  22.55  20.85  22.30  22.325   0.350   \n",
      "169  2018-12-20  F (Jan 2019)  22.20  23.75  21.86  22.72  22.725   0.400   \n",
      "170  2018-12-21  F (Jan 2019)  22.85  24.60  22.60  24.00  24.300   1.575   \n",
      "171  2018-12-24  F (Jan 2019)  24.15  25.95  23.80  25.95  25.900   1.600   \n",
      "172  2018-12-26  F (Jan 2019)  25.60  27.00  24.10  24.85  24.675  -1.225   \n",
      "173  2018-12-27  F (Jan 2019)  24.75  26.97  24.40  25.25  25.025   0.350   \n",
      "174  2018-12-28  F (Jan 2019)  25.25  26.07  24.50  25.31  25.325   0.300   \n",
      "175  2018-12-31  F (Jan 2019)  25.20  25.20  24.00  24.25  24.175  -1.150   \n",
      "176  2019-01-02  F (Jan 2019)  24.00  25.88  23.10  23.75  23.125  -1.050   \n",
      "177  2019-01-03  F (Jan 2019)  24.15  25.12  23.67  24.37  24.375   1.250   \n",
      "178  2019-01-04  F (Jan 2019)  24.35  24.70  21.85  22.00  21.925  -2.450   \n",
      "179  2019-01-07  F (Jan 2019)  21.85  22.50  21.05  21.35  21.425  -0.500   \n",
      "180  2019-01-08  F (Jan 2019)  21.35  21.71  20.55  20.65  20.625  -0.800   \n",
      "181  2019-01-09  F (Jan 2019)  20.65  20.80  19.80  20.25  20.125  -0.500   \n",
      "182  2019-01-10  F (Jan 2019)  20.25  21.05  19.81  19.85  19.875  -0.250   \n",
      "183  2019-01-11  F (Jan 2019)  19.90  20.32  18.90  19.05  19.025  -0.850   \n",
      "184  2019-01-14  F (Jan 2019)  19.10  20.40  18.85  19.25  19.225   0.200   \n",
      "185  2019-01-15  F (Jan 2019)  19.25  19.35  18.11  18.90  18.825  -0.400   \n",
      "186  2019-01-16  F (Jan 2019)  18.88  19.05  18.25  18.30  18.870   0.045   \n",
      "\n",
      "     Total Volume   EFP  Open Interest  \n",
      "0               0     0              0  \n",
      "1               2     0              2  \n",
      "2               0     0              2  \n",
      "3               1     0              3  \n",
      "4               1     0              3  \n",
      "5               4     0              5  \n",
      "6               0     0              5  \n",
      "7               8     0             13  \n",
      "8               8     0             17  \n",
      "9               4     0             21  \n",
      "10              4     0             23  \n",
      "11            469     0            286  \n",
      "12            325     0            445  \n",
      "13            131     0            504  \n",
      "14            285     0            666  \n",
      "15            425     0            900  \n",
      "16            892     0           1501  \n",
      "17            440     0           1653  \n",
      "18            727     0           2044  \n",
      "19           1413     0           2863  \n",
      "20            405     0           3061  \n",
      "21           1113     0           3560  \n",
      "22            608     0           3837  \n",
      "23            759     0           4206  \n",
      "24            405     0           4290  \n",
      "25            965     0           4409  \n",
      "26            540     0           4594  \n",
      "27            310     0           4612  \n",
      "28            278     0           4660  \n",
      "29            700     0           4915  \n",
      "..            ...   ...            ...  \n",
      "157        135031   146         102640  \n",
      "158          7145     0         102527  \n",
      "159        202126  3810         120932  \n",
      "160        121270   882         133255  \n",
      "161        133343  1807         140110  \n",
      "162        112975     0         149986  \n",
      "163         88259     0         149381  \n",
      "164         90831   158         161097  \n",
      "165         96139    84         169061  \n",
      "166        158421     0         190529  \n",
      "167        177292     0         199055  \n",
      "168        180616     0         198087  \n",
      "169        224682     0         198416  \n",
      "170        226096  2082         185036  \n",
      "171        104860  1142         177066  \n",
      "172        145938    70         162119  \n",
      "173        170763   579         153784  \n",
      "174        127062   464         144628  \n",
      "175         99069     0         131185  \n",
      "176        134893   145         121603  \n",
      "177        147902   562         113656  \n",
      "178        135523   358         102360  \n",
      "179         91886  1118          91416  \n",
      "180         98193    35          81812  \n",
      "181         93576  1912          69221  \n",
      "182         77018    65          59243  \n",
      "183         78769    39          50761  \n",
      "184         75706     0          35371  \n",
      "185         73739   225          25620  \n",
      "186          1404     0          24423  \n",
      "\n",
      "[187 rows x 11 columns]\n"
     ]
    }
   ],
   "source": [
    "import pandas as pd\n",
    "import numpy as np\n",
    "import matplotlib.pyplot as plt\n",
    "%matplotlib inline\n",
    "\n",
    "df = pd.read_csv('CFE_F19_VX.csv')\n",
    "print(df)"
   ]
  },
  {
   "cell_type": "code",
   "execution_count": 19,
   "metadata": {},
   "outputs": [
    {
     "data": {
      "text/html": [
       "<div>\n",
       "<style scoped>\n",
       "    .dataframe tbody tr th:only-of-type {\n",
       "        vertical-align: middle;\n",
       "    }\n",
       "\n",
       "    .dataframe tbody tr th {\n",
       "        vertical-align: top;\n",
       "    }\n",
       "\n",
       "    .dataframe thead th {\n",
       "        text-align: right;\n",
       "    }\n",
       "</style>\n",
       "<table border=\"1\" class=\"dataframe\">\n",
       "  <thead>\n",
       "    <tr style=\"text-align: right;\">\n",
       "      <th></th>\n",
       "      <th>Trade Date</th>\n",
       "      <th>Futures</th>\n",
       "      <th>Open</th>\n",
       "      <th>High</th>\n",
       "      <th>Low</th>\n",
       "      <th>Close</th>\n",
       "      <th>Settle</th>\n",
       "      <th>Change</th>\n",
       "      <th>Total Volume</th>\n",
       "      <th>EFP</th>\n",
       "      <th>Open Interest</th>\n",
       "    </tr>\n",
       "  </thead>\n",
       "  <tbody>\n",
       "    <tr>\n",
       "      <th>0</th>\n",
       "      <td>2018-04-23</td>\n",
       "      <td>F (Jan 2019)</td>\n",
       "      <td>0.00</td>\n",
       "      <td>18.50</td>\n",
       "      <td>18.85</td>\n",
       "      <td>0.00</td>\n",
       "      <td>18.450</td>\n",
       "      <td>0.000</td>\n",
       "      <td>0</td>\n",
       "      <td>0</td>\n",
       "      <td>0</td>\n",
       "    </tr>\n",
       "    <tr>\n",
       "      <th>1</th>\n",
       "      <td>2018-04-24</td>\n",
       "      <td>F (Jan 2019)</td>\n",
       "      <td>18.55</td>\n",
       "      <td>18.95</td>\n",
       "      <td>18.50</td>\n",
       "      <td>18.95</td>\n",
       "      <td>18.725</td>\n",
       "      <td>0.275</td>\n",
       "      <td>2</td>\n",
       "      <td>0</td>\n",
       "      <td>2</td>\n",
       "    </tr>\n",
       "    <tr>\n",
       "      <th>2</th>\n",
       "      <td>2018-04-25</td>\n",
       "      <td>F (Jan 2019)</td>\n",
       "      <td>0.00</td>\n",
       "      <td>18.70</td>\n",
       "      <td>18.70</td>\n",
       "      <td>0.00</td>\n",
       "      <td>18.700</td>\n",
       "      <td>-0.025</td>\n",
       "      <td>0</td>\n",
       "      <td>0</td>\n",
       "      <td>2</td>\n",
       "    </tr>\n",
       "    <tr>\n",
       "      <th>3</th>\n",
       "      <td>2018-04-26</td>\n",
       "      <td>F (Jan 2019)</td>\n",
       "      <td>18.50</td>\n",
       "      <td>18.80</td>\n",
       "      <td>18.50</td>\n",
       "      <td>18.50</td>\n",
       "      <td>18.575</td>\n",
       "      <td>-0.125</td>\n",
       "      <td>1</td>\n",
       "      <td>0</td>\n",
       "      <td>3</td>\n",
       "    </tr>\n",
       "    <tr>\n",
       "      <th>4</th>\n",
       "      <td>2018-04-27</td>\n",
       "      <td>F (Jan 2019)</td>\n",
       "      <td>18.65</td>\n",
       "      <td>18.65</td>\n",
       "      <td>18.50</td>\n",
       "      <td>18.65</td>\n",
       "      <td>18.275</td>\n",
       "      <td>-0.300</td>\n",
       "      <td>1</td>\n",
       "      <td>0</td>\n",
       "      <td>3</td>\n",
       "    </tr>\n",
       "  </tbody>\n",
       "</table>\n",
       "</div>"
      ],
      "text/plain": [
       "   Trade Date       Futures   Open   High    Low  Close  Settle  Change  \\\n",
       "0  2018-04-23  F (Jan 2019)   0.00  18.50  18.85   0.00  18.450   0.000   \n",
       "1  2018-04-24  F (Jan 2019)  18.55  18.95  18.50  18.95  18.725   0.275   \n",
       "2  2018-04-25  F (Jan 2019)   0.00  18.70  18.70   0.00  18.700  -0.025   \n",
       "3  2018-04-26  F (Jan 2019)  18.50  18.80  18.50  18.50  18.575  -0.125   \n",
       "4  2018-04-27  F (Jan 2019)  18.65  18.65  18.50  18.65  18.275  -0.300   \n",
       "\n",
       "   Total Volume  EFP  Open Interest  \n",
       "0             0    0              0  \n",
       "1             2    0              2  \n",
       "2             0    0              2  \n",
       "3             1    0              3  \n",
       "4             1    0              3  "
      ]
     },
     "execution_count": 19,
     "metadata": {},
     "output_type": "execute_result"
    }
   ],
   "source": [
    "df.head(5)"
   ]
  },
  {
   "cell_type": "code",
   "execution_count": 20,
   "metadata": {},
   "outputs": [
    {
     "data": {
      "image/png": "[encoded data removed]",
      "text/plain": [
       "<Figure size 432x288 with 1 Axes>"
      ]
     },
     "metadata": {
      "needs_background": "light"
     },
     "output_type": "display_data"
    }
   ],
   "source": [
    "\n",
    "plt.plot(df['High'], color='purple')\n",
    "plt.plot(df['Low'], color='green')\n",
    "\n",
    "plt.ylabel(['Trade Date'])\n",
    "plt.title('Random Series')\n",
    "plt.show()"
   ]
  },
  {
   "cell_type": "code",
   "execution_count": null,
   "metadata": {},
   "outputs": [],
   "source": []
  },
  {
   "cell_type": "code",
   "execution_count": 29,
   "metadata": {},
   "outputs": [
    {
     "data": {
      "image/png": "[encoded data removed]",
      "text/plain": [
       "<Figure size 432x288 with 1 Axes>"
      ]
     },
     "metadata": {
      "needs_background": "light"
     },
     "output_type": "display_data"
    }
   ],
   "source": [
    "plt.scatter(x=df['Settle'], y=df['High']) #use two numerical columns data. \n",
    "plt.show()"
   ]
  },
  {
   "cell_type": "code",
   "execution_count": null,
   "metadata": {},
   "outputs": [],
   "source": []
  },
  {
   "cell_type": "code",
   "execution_count": 25,
   "metadata": {},
   "outputs": [
    {
     "data": {
      "image/png": "[encoded data removed]",
      "text/plain": [
       "<Figure size 432x288 with 1 Axes>"
      ]
     },
     "metadata": {
      "needs_background": "light"
     },
     "output_type": "display_data"
    }
   ],
   "source": [
    "%matplotlib inline\n",
    "plt.plot(['Open Interest'])\n",
    "plt.show()"
   ]
  },
  {
   "cell_type": "code",
   "execution_count": null,
   "metadata": {},
   "outputs": [],
   "source": []
  },
  {
   "cell_type": "code",
   "execution_count": 30,
   "metadata": {},
   "outputs": [
    {
     "data": {
      "image/png": "[encoded data removed]",
      "text/plain": [
       "<Figure size 432x288 with 1 Axes>"
      ]
     },
     "metadata": {
      "needs_background": "light"
     },
     "output_type": "display_data"
    }
   ],
   "source": [
    "x = df['High']\n",
    "\n",
    "# Build our histogram. Let's go ahead and set the color too.\n",
    "plt.hist(x, bins=40, color='red')\n",
    "plt.title('Default Bin Placement Demo')\n",
    "plt.xlabel('Random Values')\n",
    "plt.show()"
   ]
  },
  {
   "cell_type": "code",
   "execution_count": 31,
   "metadata": {},
   "outputs": [
    {
     "data": {
      "image/png": "[encoded data removed]",
      "text/plain": [
       "<Figure size 432x288 with 1 Axes>"
      ]
     },
     "metadata": {
      "needs_background": "light"
     },
     "output_type": "display_data"
    }
   ],
   "source": [
    "# Set the random seed to keep the example consistent.\n",
    "np.random.seed(111)\n",
    "\n",
    "# Sample data.\n",
    "x = np.random.normal(10, 5, 1000)\n",
    "\n",
    "# Generate and display the box plot.\n",
    "plt.boxplot(x)\n",
    "plt.show()"
   ]
  },
  {
   "cell_type": "code",
   "execution_count": null,
   "metadata": {},
   "outputs": [],
   "source": []
  }
 ],
 "metadata": {
  "kernelspec": {
   "display_name": "Python 3",
   "language": "python",
   "name": "python3"
  },
  "language_info": {
   "codemirror_mode": {
    "name": "ipython",
    "version": 3
   },
   "file_extension": ".py",
   "mimetype": "text/x-python",
   "name": "python",
   "nbconvert_exporter": "python",
   "pygments_lexer": "ipython3",
   "version": "3.7.3"
  }
 },
 "nbformat": 4,
 "nbformat_minor": 2
}
