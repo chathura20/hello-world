{
 "cells": [
  {
   "cell_type": "code",
   "execution_count": 1,
   "metadata": {},
   "outputs": [],
   "source": [
    "# Drill 1\n",
    "# Q1. \n",
    "\n",
    "# 1/2 * 1/2 * 1/2 * 1/2 = 1/16 = 0.065\n",
    "\n",
    "# Q2. 24/45\n",
    "\n",
    "#Q3. Prob_of_travel = 10%\n",
    "     # prob_of_crash = 0.005%\n",
    "\n",
    "    # Since above two are two independant events 10% * 0.005% = 0.0005%\n",
    "    \n",
    "#Q4. Sample size is not large enough. If only 5% of visitors are ASKED to take a survey, \n",
    "     #there’s a good chance that the survey won’t be a large enough sample size.\n"
   ]
  },
  {
   "cell_type": "code",
   "execution_count": null,
   "metadata": {},
   "outputs": [],
   "source": [
    "# Drill 2 \n",
    "\n",
    "# positive_result/ suffer_person = 98%\n",
    "# positive_result/ non_suffer_person = 10%\n",
    "# suffer_person = 0.5% \n",
    "\n",
    "# P(A | B) = P(B | A) * P(A) / P(B)\n",
    "\n",
    "# Be positive= .98*.005 + .1*.995 = .1044\n",
    "# Correctly diagnose a sufferer of Thripshaw’s= .98\n",
    "# Correctly identify a non-sufferer of Thripshaw’s = .9\n",
    "# Misclassify the person= 1-(.98*.005 + .9*.995)=.0996\n",
    " "
   ]
  }
 ],
 "metadata": {
  "kernelspec": {
   "display_name": "Python 3",
   "language": "python",
   "name": "python3"
  },
  "language_info": {
   "codemirror_mode": {
    "name": "ipython",
    "version": 3
   },
   "file_extension": ".py",
   "mimetype": "text/x-python",
   "name": "python",
   "nbconvert_exporter": "python",
   "pygments_lexer": "ipython3",
   "version": "3.7.3"
  }
 },
 "nbformat": 4,
 "nbformat_minor": 2
}
