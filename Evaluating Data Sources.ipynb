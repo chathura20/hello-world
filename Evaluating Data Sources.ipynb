{
 "cells": [
  {
   "cell_type": "code",
   "execution_count": null,
   "metadata": {},
   "outputs": [],
   "source": [
    "#\n",
    "#Theoretical Data Source: Amsterdam availability data scraped from AirBnB on December 24th.\n",
    "\n",
    "#Question: What are the popular neighborhoods in Amsterdam?\n",
    "    \n",
    "#Christmastime will bias availability in two ways- more AirBnBs may be taken due to vacationers, \n",
    "#or fewer AirBnBs may be on offer because people don’t want to share their homes over the holidays. \n",
    "#Choose a sampling period that doesn’t include a major holiday,\n",
    "#or reframe the question to focus on popular neighborhoods during major holidays. \n",
    "\n",
    "Theoretical Data Source: Mental health services use on September 12, 2001 in San Francisco, CA and New York City, NY.\n",
    "\n",
    "Question: How do patterns of mental health service use vary between cities?\n",
    "\n",
    "# Mental health services use on September 12, 2001 in San Francisco, CA and New York City, \n",
    "#NY: Given the terrorist attack on NYC the day before, patterns of mental health services use are likely\n",
    "#to be very different in the two cities-- even if they were pretty similar on September 10, 2001.\n",
    "#Reframe the question to mental health use in the aftermath of a nearby vs distant crisis, perhaps.\n",
    "\n",
    "Actual Data Source: Armenian Pub Survey.\n",
    "\n",
    "Question: What are the most common reasons Armenians visit local pubs?\n",
    "\n",
    "    # University students are more likely to gettogether and discuss their experience\n",
    "    #in different cultures as many international students from various countries are comming to study. \n",
    "    # Students age more likely to have drinks and have fun time with friends"
   ]
  },
  {
   "cell_type": "code",
   "execution_count": null,
   "metadata": {},
   "outputs": [],
   "source": []
  }
 ],
 "metadata": {
  "kernelspec": {
   "display_name": "Python 3",
   "language": "python",
   "name": "python3"
  },
  "language_info": {
   "codemirror_mode": {
    "name": "ipython",
    "version": 3
   },
   "file_extension": ".py",
   "mimetype": "text/x-python",
   "name": "python",
   "nbconvert_exporter": "python",
   "pygments_lexer": "ipython3",
   "version": "3.7.3"
  }
 },
 "nbformat": 4,
 "nbformat_minor": 2
}
